{
 "cells": [
  {
   "cell_type": "code",
   "execution_count": 1,
   "id": "25b20728-3c68-46c1-aa7f-c92ef844ded2",
   "metadata": {},
   "outputs": [
    {
     "name": "stdout",
     "output_type": "stream",
     "text": [
      "one in basics\n"
     ]
    }
   ],
   "source": [
    "print(\"one in basics\")"
   ]
  },
  {
   "cell_type": "code",
   "execution_count": null,
   "id": "70e68ec9-09f0-40e7-86f0-8290802c9b26",
   "metadata": {},
   "outputs": [],
   "source": []
  }
 ],
 "metadata": {
  "kernelspec": {
   "display_name": "Python 3 (ipykernel)",
   "language": "python",
   "name": "python3"
  },
  "language_info": {
   "codemirror_mode": {
    "name": "ipython",
    "version": 3
   },
   "file_extension": ".py",
   "mimetype": "text/x-python",
   "name": "python",
   "nbconvert_exporter": "python",
   "pygments_lexer": "ipython3",
   "version": "3.12.4"
  }
 },
 "nbformat": 4,
 "nbformat_minor": 5
}
