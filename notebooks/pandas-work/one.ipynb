{
 "cells": [
  {
   "cell_type": "code",
   "execution_count": 1,
   "id": "2a3dc26e-009e-41cd-83e6-5fad7b597cc3",
   "metadata": {},
   "outputs": [
    {
     "name": "stdout",
     "output_type": "stream",
     "text": [
      "one in pandas work\n"
     ]
    }
   ],
   "source": [
    "print(\"one in pandas work\")"
   ]
  },
  {
   "cell_type": "code",
   "execution_count": null,
   "id": "917ee529-9754-4a84-976b-746fe49af5d4",
   "metadata": {},
   "outputs": [],
   "source": []
  }
 ],
 "metadata": {
  "kernelspec": {
   "display_name": "Python 3 (ipykernel)",
   "language": "python",
   "name": "python3"
  },
  "language_info": {
   "codemirror_mode": {
    "name": "ipython",
    "version": 3
   },
   "file_extension": ".py",
   "mimetype": "text/x-python",
   "name": "python",
   "nbconvert_exporter": "python",
   "pygments_lexer": "ipython3",
   "version": "3.12.4"
  }
 },
 "nbformat": 4,
 "nbformat_minor": 5
}
