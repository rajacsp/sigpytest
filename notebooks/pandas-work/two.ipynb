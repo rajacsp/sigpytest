{
 "cells": [
  {
   "cell_type": "code",
   "execution_count": null,
   "id": "123d245e-af12-422f-b5b8-7561623057e0",
   "metadata": {},
   "outputs": [],
   "source": [
    "print(\"two in pandas-work\")"
   ]
  }
 ],
 "metadata": {
  "kernelspec": {
   "display_name": "Python 3 (ipykernel)",
   "language": "python",
   "name": "python3"
  },
  "language_info": {
   "codemirror_mode": {
    "name": "ipython",
    "version": 3
   },
   "file_extension": ".py",
   "mimetype": "text/x-python",
   "name": "python",
   "nbconvert_exporter": "python",
   "pygments_lexer": "ipython3",
   "version": "3.12.4"
  }
 },
 "nbformat": 4,
 "nbformat_minor": 5
}
